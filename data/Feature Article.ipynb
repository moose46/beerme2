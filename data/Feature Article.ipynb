{
 "cells": [
  {
   "cell_type": "markdown",
   "metadata": {},
   "source": []
  },
  {
   "cell_type": "markdown",
   "metadata": {},
   "source": [
    "# Robert Curtiss"
   ]
  },
  {
   "cell_type": "markdown",
   "metadata": {},
   "source": [
    "Born July 1946, Bartonville, Illinois to Leslie and Verda Curtiss"
   ]
  },
  {
   "cell_type": "markdown",
   "metadata": {},
   "source": [
    "Attended Bellevue Grade Shool 1952 - 1960\n",
    "1. Was a member of cub scouts and then boy scouts during that time\n",
    "2. Parents also thought it would be nice for me to learn how to play the accordian!"
   ]
  },
  {
   "cell_type": "markdown",
   "metadata": {},
   "source": [
    "Attended High School 1960 - 1964 Limestone Rockets\n",
    "1. Worked part time at the IGA on plank road, near Norwood school\n",
    "2. Worked at Peoria Porcelian 1963 - 1964, with Scott Gossett and Forest Wilson\n",
    "3. Joined United States Navy Reserves 1963 (Bob Culberson and David MCrary did also)\n",
    "4. Attended the Great Lakes Navel Center for boot camp 1963\n",
    "5. Then went on a cruise USS Danel Joy (December), destroyer Escort, in lake Michigan, didn't like it much.\n",
    "6. I did get to man the helm of the destroyer from Milwaukee to Chicago, that was fun "
   ]
  },
  {
   "cell_type": "markdown",
   "metadata": {},
   "source": [
    "Joined United States Airforce 1965 - 1969, was still was in the Navel Reserves\n",
    "1. Worked at the IGA store on Western Ave helping the butcher. On day the butcher dropped all the hamburger he was grinding onto the floor, full of saw dust. Told me to pick it up and regrind it and package it for sale. I cleaned up the best I could and repackaged it, and put in out in the cooler. When someone would come up to buy it I warned them about what I had done. Next thing I know the intercom for the store, crackled Bob please come to the front office please. They handed me a check and told me I had a big mouth and fired me on the spot, Now I am in a pickle, can't get a full time job anywhere, because I have a 2 year cruise to complete for the Navy Reserves. Ask the Navy to get me a crusie quicker, no deal. Went down to the Air Force recruiter and singed up, guess to can move from one branch to another if it is reserve to active duty. Left the very next week to another boot camp (I am seasoned this time) for Lackland Airforce base."
   ]
  },
  {
   "cell_type": "markdown",
   "metadata": {},
   "source": [
    "Burroughs Corporation 1969 - 1971\n",
    "1. Small adding machines and teller machines repair technician. Worked the forst electonic calculators (Nixie Tubes, very cool 64 bytes of memory)\n",
    "2. Went to Illinois Central College for a year after leaving Burroughs, completed 1 year\n",
    "3. Worked part time Richards 66 station pn plank road\n",
    "   "
   ]
  },
  {
   "cell_type": "markdown",
   "metadata": {},
   "source": [
    "Illinois Bell Telephone Switchman 1971 - 1979\n",
    "1. I Was a troubleshooter for switches statewide before I left and went to Western Electric as an Electronics Switch instructor, in Dublin Ohio."
   ]
  },
  {
   "cell_type": "markdown",
   "metadata": {},
   "source": [
    "Western Electric 1979 - 1983 (Instructor / System Adminstrator)"
   ]
  },
  {
   "cell_type": "markdown",
   "metadata": {},
   "source": [
    "Worked at the AT&T Data Center for 1984 Olympics (Software Developer)\n",
    "1. Got to meet Edwin Moses (400m hurdles)\n",
    "2. Was given tickets to many olympic events"
   ]
  },
  {
   "cell_type": "markdown",
   "metadata": {},
   "source": [
    "At&T 1983 - 1996 (Member of Technical Staff)\n",
    "1. Software developer / Database adminstrator / Systems Developer\n",
    "2. Attended Franklin University, 16hrs short of getting my degree in computer science!"
   ]
  },
  {
   "cell_type": "code",
   "execution_count": null,
   "metadata": {
    "vscode": {
     "languageId": "plaintext"
    }
   },
   "outputs": [],
   "source": []
  },
  {
   "cell_type": "markdown",
   "metadata": {},
   "source": [
    "1997 - 1999 LCI International Software Engineer \n",
    "1. Left after a project that I was working was almost complete"
   ]
  },
  {
   "cell_type": "markdown",
   "metadata": {},
   "source": [
    "1999 - 2001 Went back to work for a consulting (Expert Technical Consultants) as a software consultant for AT&T (my old company) LOL"
   ]
  },
  {
   "cell_type": "markdown",
   "metadata": {},
   "source": [
    "2001 - 2002 Full time Photographer (Bob's Action Photo)"
   ]
  },
  {
   "cell_type": "markdown",
   "metadata": {},
   "source": [
    "2001 Land Man for gas oil company and continued my photography business\n",
    "   1. Sold oil and gas leases for large tracks of land"
   ]
  },
  {
   "cell_type": "markdown",
   "metadata": {},
   "source": [
    "2002 - 2010 Took another gig at (Expert Technical Consultants) as a software consultant for Netjets Inc."
   ]
  },
  {
   "cell_type": "markdown",
   "metadata": {},
   "source": [
    "2010 Hired on as full time Netjets employee"
   ]
  },
  {
   "cell_type": "markdown",
   "metadata": {},
   "source": [
    "2017 Retired from Netjets Inc."
   ]
  },
  {
   "cell_type": "markdown",
   "metadata": {},
   "source": [
    "Had 3 sons and 1 daughter.\n",
    "We have 4 Grandchildren\n",
    "Currently living Marysville, Ohio with my wife Carol and our cat Stinky."
   ]
  }
 ],
 "metadata": {
  "language_info": {
   "name": "python"
  }
 },
 "nbformat": 4,
 "nbformat_minor": 2
}
