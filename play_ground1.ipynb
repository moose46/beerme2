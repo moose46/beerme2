{
 "cells": [
  {
   "cell_type": "code",
   "execution_count": null,
   "metadata": {},
   "outputs": [],
   "source": [
    "from betData import BetData\n",
    "\n",
    "data = BetData()\n",
    "bets = data.get_bets\n",
    "for key in bets:\n",
    "    print(bets[key])\n"
   ]
  },
  {
   "cell_type": "markdown",
   "metadata": {},
   "source": [
    "# Read all race data files"
   ]
  },
  {
   "cell_type": "code",
   "execution_count": null,
   "metadata": {},
   "outputs": [],
   "source": [
    "from pathlib import Path\n",
    "import re\n",
    "import csv\n",
    "from collections import defaultdict, namedtuple\n",
    "import numpy as np\n",
    "all_driver_results = {}\n",
    "file_path = Path.cwd() / \"data\"\n",
    "\n",
    "for f in file_path.glob(\"results*2023_.txt\"):\n",
    "    race_track = f.stem.split(\"_\")[1]\n",
    "    race_date = re.findall(r\"\\d+-\\d+-\\d+\", f.name)[\n",
    "        0\n",
    "    ]  # get the date from the file name\n",
    "    print(f\"Processing {race_track.capitalize()} - {race_date}\")\n",
    "    with open(Path(f\"{f.parent}/{f.name}\"), \"r\") as file:\n",
    "        reader = csv.reader(file, delimiter=\"\\t\")\n",
    "        # csv file must have header\n",
    "        rawResult = namedtuple(\"rawResult\", next(reader), rename=True)\n",
    "        for row in reader:\n",
    "            driver_data = rawResult(*row)\n",
    "            all_driver_results[driver_data.DRIVER] = driver_data.POS\n",
    "        print(all_driver_results)\n",
    "        # Result = namedtuple('Result', [*rawResult._fields, 'picked_by', 'race_date', 'race_track'])\n"
   ]
  },
  {
   "cell_type": "markdown",
   "metadata": {},
   "source": [
    "[NumPy Tutorial](https://realpython.com/numpy-tutorial/)"
   ]
  },
  {
   "cell_type": "code",
   "execution_count": 4,
   "metadata": {},
   "outputs": [
    {
     "data": {
      "text/plain": [
       "array([[1, 2, 3],\n",
       "       [4, 5, 6],\n",
       "       [6, 7, 9]])"
      ]
     },
     "execution_count": 4,
     "metadata": {},
     "output_type": "execute_result"
    }
   ],
   "source": [
    "import numpy as np\n",
    "\n",
    "digits = np.array([\n",
    "    [1,2,3],\n",
    "    [4,5,6],\n",
    "    [6,7,9],\n",
    "])\n",
    "digits"
   ]
  },
  {
   "cell_type": "markdown",
   "metadata": {},
   "source": [
    "### [Curving Test Grades](https://realpython.com/numpy-tutorial/#hello-numpy-curving-test-grades-tutorial)\n",
    "The scenario is this: You’re a teacher who has just graded your students on a recent test. Unfortunately, you may have made the test too challenging, and most of the students did worse than expected. To help everybody out, you’re going to curve everyone’s grades.\n",
    "\n",
    "It’ll be a relatively rudimentary curve, though. You’ll take whatever the average score is and declare that a C. Additionally, you’ll make sure that the curve doesn’t accidentally hurt your students’ grades or help so much that the student does better than 100%."
   ]
  },
  {
   "cell_type": "code",
   "execution_count": 9,
   "metadata": {},
   "outputs": [
    {
     "data": {
      "text/plain": [
       "60.75"
      ]
     },
     "execution_count": 9,
     "metadata": {},
     "output_type": "execute_result"
    }
   ],
   "source": [
    "import numpy as np\n",
    "CURVE_CENTER = 80\n",
    "grades = np.array([72,35,64,88,51,90,74,12])\n",
    "\n",
    "def curve(grades: np.array):\n",
    "    average = grades.mean()\n",
    "    change = CURVE_CENTER - average\n",
    "    new_grades = grades + change\n",
    "    return np.clip(new_grades,grades,100)\n",
    "curve(grades)\n",
    "grades.mean()\n"
   ]
  }
 ],
 "metadata": {
  "kernelspec": {
   "display_name": "Python 3",
   "language": "python",
   "name": "python3"
  },
  "language_info": {
   "codemirror_mode": {
    "name": "ipython",
    "version": 3
   },
   "file_extension": ".py",
   "mimetype": "text/x-python",
   "name": "python",
   "nbconvert_exporter": "python",
   "pygments_lexer": "ipython3",
   "version": "3.11.4"
  },
  "orig_nbformat": 4
 },
 "nbformat": 4,
 "nbformat_minor": 2
}
