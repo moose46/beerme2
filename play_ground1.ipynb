{
 "cells": [
  {
   "cell_type": "code",
   "execution_count": null,
   "metadata": {},
   "outputs": [],
   "source": [
    "from betData import BetData\n",
    "\n",
    "data = BetData()\n",
    "bets = data.get_bets\n",
    "for key in bets:\n",
    "    print(bets[key])\n"
   ]
  },
  {
   "cell_type": "markdown",
   "metadata": {},
   "source": [
    "# Read all race data files\n"
   ]
  },
  {
   "cell_type": "code",
   "execution_count": null,
   "metadata": {},
   "outputs": [],
   "source": [
    "from pathlib import Path\n",
    "import re\n",
    "import csv\n",
    "from collections import defaultdict, namedtuple\n",
    "import numpy as np\n",
    "all_driver_results = {}\n",
    "file_path = Path.cwd() / \"data\"\n",
    "\n",
    "for f in file_path.glob(\"results*2023_.txt\"):\n",
    "    race_track = f.stem.split(\"_\")[1]\n",
    "    race_date = re.findall(r\"\\d+-\\d+-\\d+\", f.name)[\n",
    "        0\n",
    "    ]  # get the date from the file name\n",
    "    print(f\"Processing {race_track.capitalize()} - {race_date}\")\n",
    "    with open(Path(f\"{f.parent}/{f.name}\"), \"r\") as file:\n",
    "        reader = csv.reader(file, delimiter=\"\\t\")\n",
    "        # csv file must have header\n",
    "        rawResult = namedtuple(\"rawResult\", next(reader), rename=True)\n",
    "        for row in reader:\n",
    "            driver_data = rawResult(*row)\n",
    "            all_driver_results[driver_data.DRIVER] = driver_data.POS\n",
    "        print(all_driver_results)\n",
    "        # Result = namedtuple('Result', [*rawResult._fields, 'picked_by', 'race_date', 'race_track'])\n"
   ]
  },
  {
   "cell_type": "markdown",
   "metadata": {},
   "source": [
    "[NumPy Tutorial](https://realpython.com/numpy-tutorial/)\n"
   ]
  },
  {
   "cell_type": "code",
   "execution_count": null,
   "metadata": {},
   "outputs": [],
   "source": [
    "import numpy as np\n",
    "\n",
    "digits = np.array([\n",
    "    [1,2,3],\n",
    "    [4,5,6],\n",
    "    [6,7,9],\n",
    "])\n",
    "digits"
   ]
  },
  {
   "cell_type": "markdown",
   "metadata": {},
   "source": [
    "### [Curving Test Grades](https://realpython.com/numpy-tutorial/#hello-numpy-curving-test-grades-tutorial)\n",
    "\n",
    "The scenario is this: You’re a teacher who has just graded your students on a recent test. Unfortunately, you may have made the test too challenging, and most of the students did worse than expected. To help everybody out, you’re going to curve everyone’s grades.\n",
    "\n",
    "It’ll be a relatively rudimentary curve, though. You’ll take whatever the average score is and declare that a C. Additionally, you’ll make sure that the curve doesn’t accidentally hurt your students’ grades or help so much that the student does better than 100%.\n",
    "\n",
    "[Pandas Named Arrays](https://stackoverflow.com/questions/44708911/structured-2d-numpy-array-setting-column-and-row-names)\n"
   ]
  },
  {
   "cell_type": "code",
   "execution_count": null,
   "metadata": {},
   "outputs": [],
   "source": [
    "list1 = list(range(1,25))\n",
    "list1[13] = 42\n",
    "list1"
   ]
  },
  {
   "cell_type": "code",
   "execution_count": 6,
   "metadata": {},
   "outputs": [
    {
     "ename": "NameError",
     "evalue": "name 'all_driver_results' is not defined",
     "output_type": "error",
     "traceback": [
      "\u001b[1;31m---------------------------------------------------------------------------\u001b[0m",
      "\u001b[1;31mNameError\u001b[0m                                 Traceback (most recent call last)",
      "Cell \u001b[1;32mIn[6], line 40\u001b[0m\n\u001b[0;32m     38\u001b[0m \u001b[39mfor\u001b[39;00m row \u001b[39min\u001b[39;00m reader:\n\u001b[0;32m     39\u001b[0m     driver_data \u001b[39m=\u001b[39m rawResult(\u001b[39m*\u001b[39mrow)\n\u001b[1;32m---> 40\u001b[0m     all_driver_results[driver_data\u001b[39m.\u001b[39mDRIVER] \u001b[39m=\u001b[39m driver_data\u001b[39m.\u001b[39mPOS\n\u001b[0;32m     41\u001b[0m     results\u001b[39m.\u001b[39mappend(driver_data\u001b[39m.\u001b[39mPOS)\n\u001b[0;32m     42\u001b[0m     \u001b[39mif\u001b[39;00m driver_data\u001b[39m.\u001b[39mDRIVER \u001b[39min\u001b[39;00m all_drivers:\n",
      "\u001b[1;31mNameError\u001b[0m: name 'all_driver_results' is not defined"
     ]
    }
   ],
   "source": [
    "import numpy as np\n",
    "import pandas as pd\n",
    "import collections\n",
    "from pathlib import Path\n",
    "import re, csv\n",
    "from collections import defaultdict, namedtuple\n",
    "\n",
    "CURVE_CENTER = 80\n",
    "grades = np.array([1,10,32,8,5,9,7,12,1,10,32,8,5,9,7,12,1,10,32,8,5,9,7,12])\n",
    "grades2 = np.array([72,35,64,88,51,90,74,12,72,35,64,88,51,90,74,12,72,35,64,88,51,90,74,12])\n",
    "\n",
    "data = [grades, grades2]\n",
    "def curve(grades):\n",
    "    average = grades.mean()\n",
    "    change = CURVE_CENTER - average\n",
    "    new_grades = grades + change\n",
    "    return np.clip(new_grades,grades,100)\n",
    "curve(grades)\n",
    "grades.mean()\n",
    "\n",
    "file_path = Path.cwd() / \"data\"\n",
    "col_names = []\n",
    "row_names = []\n",
    "data = []\n",
    "all_drivers = {}\n",
    "# for f in file_path.glob(\"results*2023_.txt\"):\n",
    "#     race_track = f.stem.split(\"_\")[1]\n",
    "#     race_date = re.findall(r\"\\d+-\\d+-\\d+\", f.name)[\n",
    "#         0\n",
    "#     ]  # get the date from the file name\n",
    "#     # print(f\"Processing {race_track.capitalize()} - {race_date}\")\n",
    "#     col_names.append(race_track)\n",
    "#     with open(Path(f\"{f.parent}/{f.name}\"), \"r\") as file:\n",
    "#         reader = csv.reader(file, delimiter=\"\\t\")\n",
    "#         # csv file must have header\n",
    "#         rawResult = namedtuple(\"rawResult\", next(reader), rename=True)\n",
    "#         results = []\n",
    "#         for row in reader:\n",
    "#             driver_data = rawResult(*row)\n",
    "#             all_driver_results[driver_data.DRIVER] = driver_data.POS\n",
    "#             results.append(driver_data.POS)\n",
    "#             if driver_data.DRIVER in all_drivers:\n",
    "#                 all_drivers[driver_data.DRIVER] += driver_data.POS\n",
    "#             else:\n",
    "#                 all_drivers[driver_data.DRIVER] = [driver_data.POS]\n",
    "#             # print(f'{driver_data.DRIVER}')\n",
    "#             row_names.append(driver_data.DRIVER)\n",
    "#         # print(all_driver_results)\n",
    "#         data.append(results)\n",
    "# for k,v in all_drivers.items():\n",
    "#     print(f'{k} {v}')\n",
    "\n",
    "col_names = ['Race 1','Race 2','Race 1','Race 1','Race 1','Race 1','Race 1','Race 8',]\n",
    "row_names = ['Joey Logano', 'Kevin Harvick']\n",
    "pdf = pd.DataFrame(data, columns=col_names,index = row_names)\n",
    "# pdf['mean_basket'] = pdf.mean(axis=1)\n",
    "# pdf.loc['mean_fruit'] = pdf.mean()\n",
    "pdf\n",
    "\n"
   ]
  },
  {
   "cell_type": "code",
   "execution_count": null,
   "metadata": {},
   "outputs": [],
   "source": [
    "from get_races_cls import Races\n",
    "races = Races(\"2023\")\n",
    "race_dates = races.get_all_race_dates()\n",
    "print(type(race_dates))\n",
    "print(sorted(race_dates))\n",
    "races.get_all_drivers()"
   ]
  }
 ],
 "metadata": {
  "kernelspec": {
   "display_name": "Python 3",
   "language": "python",
   "name": "python3"
  },
  "language_info": {
   "codemirror_mode": {
    "name": "ipython",
    "version": 3
   },
   "file_extension": ".py",
   "mimetype": "text/x-python",
   "name": "python",
   "nbconvert_exporter": "python",
   "pygments_lexer": "ipython3",
   "version": "3.11.1"
  },
  "orig_nbformat": 4
 },
 "nbformat": 4,
 "nbformat_minor": 2
}
