{
 "cells": [
  {
   "cell_type": "code",
   "execution_count": null,
   "metadata": {},
   "outputs": [],
   "source": [
    "from betData import BetData\n",
    "\n",
    "data = BetData()\n",
    "bets = data.get_bets\n",
    "for key in bets:\n",
    "    print(bets[key])\n"
   ]
  },
  {
   "cell_type": "markdown",
   "metadata": {},
   "source": [
    "# Read all race data files\n"
   ]
  },
  {
   "cell_type": "code",
   "execution_count": null,
   "metadata": {},
   "outputs": [],
   "source": [
    "from pathlib import Path\n",
    "import re\n",
    "import csv\n",
    "from collections import defaultdict, namedtuple\n",
    "import numpy as np\n",
    "all_driver_results = {}\n",
    "file_path = Path.cwd() / \"data\"\n",
    "\n",
    "for f in file_path.glob(\"results*2023_.txt\"):\n",
    "    race_track = f.stem.split(\"_\")[1]\n",
    "    race_date = re.findall(r\"\\d+-\\d+-\\d+\", f.name)[\n",
    "        0\n",
    "    ]  # get the date from the file name\n",
    "    print(f\"Processing {race_track.capitalize()} - {race_date}\")\n",
    "    with open(Path(f\"{f.parent}/{f.name}\"), \"r\") as file:\n",
    "        reader = csv.reader(file, delimiter=\"\\t\")\n",
    "        # csv file must have header\n",
    "        rawResult = namedtuple(\"rawResult\", next(reader), rename=True)\n",
    "        for row in reader:\n",
    "            driver_data = rawResult(*row)\n",
    "            all_driver_results[driver_data.DRIVER] = driver_data.POS\n",
    "        print(all_driver_results)\n",
    "        # Result = namedtuple('Result', [*rawResult._fields, 'picked_by', 'race_date', 'race_track'])\n"
   ]
  },
  {
   "cell_type": "markdown",
   "metadata": {},
   "source": [
    "[NumPy Tutorial](https://realpython.com/numpy-tutorial/)\n"
   ]
  },
  {
   "cell_type": "code",
   "execution_count": 7,
   "metadata": {},
   "outputs": [
    {
     "data": {
      "text/plain": [
       "array([[1, 2, 3],\n",
       "       [4, 5, 6],\n",
       "       [6, 7, 9]])"
      ]
     },
     "execution_count": 7,
     "metadata": {},
     "output_type": "execute_result"
    }
   ],
   "source": [
    "import numpy as np\n",
    "\n",
    "digits = np.array([\n",
    "    [1,2,3],\n",
    "    [4,5,6],\n",
    "    [6,7,9],\n",
    "])\n",
    "digits"
   ]
  },
  {
   "cell_type": "markdown",
   "metadata": {},
   "source": [
    "### [Curving Test Grades](https://realpython.com/numpy-tutorial/#hello-numpy-curving-test-grades-tutorial)\n",
    "\n",
    "The scenario is this: You’re a teacher who has just graded your students on a recent test. Unfortunately, you may have made the test too challenging, and most of the students did worse than expected. To help everybody out, you’re going to curve everyone’s grades.\n",
    "\n",
    "It’ll be a relatively rudimentary curve, though. You’ll take whatever the average score is and declare that a C. Additionally, you’ll make sure that the curve doesn’t accidentally hurt your students’ grades or help so much that the student does better than 100%.\n",
    "\n",
    "[Pandas Named Arrays](https://stackoverflow.com/questions/44708911/structured-2d-numpy-array-setting-column-and-row-names)\n"
   ]
  },
  {
   "cell_type": "code",
   "execution_count": 34,
   "metadata": {},
   "outputs": [
    {
     "data": {
      "text/html": [
       "<div>\n",
       "<style scoped>\n",
       "    .dataframe tbody tr th:only-of-type {\n",
       "        vertical-align: middle;\n",
       "    }\n",
       "\n",
       "    .dataframe tbody tr th {\n",
       "        vertical-align: top;\n",
       "    }\n",
       "\n",
       "    .dataframe thead th {\n",
       "        text-align: right;\n",
       "    }\n",
       "</style>\n",
       "<table border=\"1\" class=\"dataframe\">\n",
       "  <thead>\n",
       "    <tr style=\"text-align: right;\">\n",
       "      <th></th>\n",
       "      <th>Race 1</th>\n",
       "      <th>Race 2</th>\n",
       "      <th>Race 1</th>\n",
       "      <th>Race 1</th>\n",
       "      <th>Race 1</th>\n",
       "      <th>Race 1</th>\n",
       "      <th>Race 1</th>\n",
       "      <th>Race 8</th>\n",
       "      <th>mean_basket</th>\n",
       "    </tr>\n",
       "  </thead>\n",
       "  <tbody>\n",
       "    <tr>\n",
       "      <th>Joey Logano</th>\n",
       "      <td>72</td>\n",
       "      <td>35</td>\n",
       "      <td>64</td>\n",
       "      <td>88</td>\n",
       "      <td>51</td>\n",
       "      <td>90</td>\n",
       "      <td>74</td>\n",
       "      <td>12</td>\n",
       "      <td>60.75</td>\n",
       "    </tr>\n",
       "    <tr>\n",
       "      <th>Kevin Harvick</th>\n",
       "      <td>72</td>\n",
       "      <td>35</td>\n",
       "      <td>64</td>\n",
       "      <td>88</td>\n",
       "      <td>51</td>\n",
       "      <td>90</td>\n",
       "      <td>74</td>\n",
       "      <td>12</td>\n",
       "      <td>60.75</td>\n",
       "    </tr>\n",
       "  </tbody>\n",
       "</table>\n",
       "</div>"
      ],
      "text/plain": [
       "               Race 1  Race 2  Race 1  Race 1  Race 1  Race 1  Race 1  Race 8  \\\n",
       "Joey Logano        72      35      64      88      51      90      74      12   \n",
       "Kevin Harvick      72      35      64      88      51      90      74      12   \n",
       "\n",
       "               mean_basket  \n",
       "Joey Logano          60.75  \n",
       "Kevin Harvick        60.75  "
      ]
     },
     "execution_count": 34,
     "metadata": {},
     "output_type": "execute_result"
    }
   ],
   "source": [
    "import numpy as np\n",
    "import pandas as pd\n",
    "CURVE_CENTER = 80\n",
    "grades = np.array([1,10,32,8,5,9,7,12])\n",
    "grades2 = np.array([72,35,64,88,51,90,74,12])\n",
    "data = []\n",
    "data.append(grades)\n",
    "data.append(grades2)\n",
    "def curve(grades: np.array):\n",
    "    average = grades.mean()\n",
    "    change = CURVE_CENTER - average\n",
    "    new_grades = grades + change\n",
    "    return np.clip(new_grades,grades,100)\n",
    "curve(grades)\n",
    "grades.mean()\n",
    "col_names = ['Race 1','Race 2','Race 1','Race 1','Race 1','Race 1','Race 1','Race 8',]\n",
    "row_names = ['Joey Logano', 'Kevin Harvick']\n",
    "pdf = pd.DataFrame(data, columns=col_names,index = row_names)\n",
    "pdf['mean_basket'] = pdf.mean(axis=1)\n",
    "# pdf.loc['mean_fruit'] = pdf.mean()\n",
    "pdf\n",
    "\n"
   ]
  }
 ],
 "metadata": {
  "kernelspec": {
   "display_name": "Python 3",
   "language": "python",
   "name": "python3"
  },
  "language_info": {
   "codemirror_mode": {
    "name": "ipython",
    "version": 3
   },
   "file_extension": ".py",
   "mimetype": "text/x-python",
   "name": "python",
   "nbconvert_exporter": "python",
   "pygments_lexer": "ipython3",
   "version": "3.11.1"
  },
  "orig_nbformat": 4
 },
 "nbformat": 4,
 "nbformat_minor": 2
}
