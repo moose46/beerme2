{
 "cells": [
  {
   "cell_type": "code",
   "execution_count": null,
   "metadata": {},
   "outputs": [],
   "source": [
    "from betData import BetData\n",
    "\n",
    "data = BetData()\n",
    "bets = data.get_bets\n",
    "for key in bets:\n",
    "    print(bets[key])\n"
   ]
  },
  {
   "cell_type": "markdown",
   "metadata": {},
   "source": [
    "# Read all race data files"
   ]
  },
  {
   "cell_type": "code",
   "execution_count": 29,
   "metadata": {},
   "outputs": [
    {
     "name": "stdout",
     "output_type": "stream",
     "text": [
      "Processing Altantla - 03-19-2023\n"
     ]
    },
    {
     "ename": "AttributeError",
     "evalue": "'dict' object has no attribute 'append'",
     "output_type": "error",
     "traceback": [
      "\u001b[1;31m---------------------------------------------------------------------------\u001b[0m",
      "\u001b[1;31mAttributeError\u001b[0m                            Traceback (most recent call last)",
      "Cell \u001b[1;32mIn[29], line 20\u001b[0m\n\u001b[0;32m     18\u001b[0m \u001b[39mfor\u001b[39;00m row \u001b[39min\u001b[39;00m reader:\n\u001b[0;32m     19\u001b[0m     driver_data \u001b[39m=\u001b[39m rawResult(\u001b[39m*\u001b[39mrow)\n\u001b[1;32m---> 20\u001b[0m     all_driver_results\u001b[39m.\u001b[39;49mappend \u001b[39m=\u001b[39m driver_data\u001b[39m.\u001b[39mDRIVER\n\u001b[0;32m     21\u001b[0m     \u001b[39mprint\u001b[39m(all_driver_results)\n\u001b[0;32m     22\u001b[0m \u001b[39m# Result = namedtuple('Result', [*rawResult._fields, 'picked_by', 'race_date', 'race_track'])\u001b[39;00m\n",
      "\u001b[1;31mAttributeError\u001b[0m: 'dict' object has no attribute 'append'"
     ]
    }
   ],
   "source": [
    "from pathlib import Path\n",
    "import re\n",
    "import csv\n",
    "from collections import defaultdict, namedtuple\n",
    "all_driver_results = dict()\n",
    "file_path = Path.cwd() / \"data\"\n",
    "\n",
    "for f in file_path.glob(\"results*2023_.txt\"):\n",
    "    race_track = f.stem.split(\"_\")[1]\n",
    "    race_date = re.findall(r\"\\d+-\\d+-\\d+\", f.name)[\n",
    "        0\n",
    "    ]  # get the date from the file name\n",
    "    print(f\"Processing {race_track.capitalize()} - {race_date}\")\n",
    "    with open(Path(f\"{f.parent}/{f.name}\"), \"r\") as file:\n",
    "        reader = csv.reader(file, delimiter=\"\\t\")\n",
    "        # csv file must have header\n",
    "        rawResult = namedtuple(\"rawResult\", next(reader), rename=True)\n",
    "        for row in reader:\n",
    "            driver_data = rawResult(*row)\n",
    "            all_driver_results[driver_data.DRIVER] = driver_data.POS\n",
    "            print(all_driver_results)\n",
    "        # Result = namedtuple('Result', [*rawResult._fields, 'picked_by', 'race_date', 'race_track'])\n"
   ]
  }
 ],
 "metadata": {
  "kernelspec": {
   "display_name": "Python 3",
   "language": "python",
   "name": "python3"
  },
  "language_info": {
   "codemirror_mode": {
    "name": "ipython",
    "version": 3
   },
   "file_extension": ".py",
   "mimetype": "text/x-python",
   "name": "python",
   "nbconvert_exporter": "python",
   "pygments_lexer": "ipython3",
   "version": "3.11.1"
  },
  "orig_nbformat": 4
 },
 "nbformat": 4,
 "nbformat_minor": 2
}
